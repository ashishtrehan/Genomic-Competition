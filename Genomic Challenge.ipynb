{
 "cells": [
  {
   "cell_type": "code",
   "execution_count": 1,
   "metadata": {
    "collapsed": false
   },
   "outputs": [
    {
     "name": "stderr",
     "output_type": "stream",
     "text": [
      "/Library/Python/2.7/site-packages/pandas/io/parsers.py:1170: DtypeWarning: Columns (5) have mixed types. Specify dtype option on import or set low_memory=False.\n",
      "  data = self._reader.read(nrows)\n"
     ]
    }
   ],
   "source": [
    "import pandas as pd\n",
    "df=pd.read_csv('/Users/ashishtrehan/Downloads/parsed_chicken.csv')"
   ]
  },
  {
   "cell_type": "code",
   "execution_count": 4,
   "metadata": {
    "collapsed": false
   },
   "outputs": [
    {
     "data": {
      "text/plain": [
       "(102066, 9)"
      ]
     },
     "execution_count": 4,
     "metadata": {},
     "output_type": "execute_result"
    }
   ],
   "source": [
    "df.shape"
   ]
  },
  {
   "cell_type": "code",
   "execution_count": 5,
   "metadata": {
    "collapsed": false
   },
   "outputs": [
    {
     "data": {
      "text/html": [
       "<div>\n",
       "<table border=\"1\" class=\"dataframe\">\n",
       "  <thead>\n",
       "    <tr style=\"text-align: right;\">\n",
       "      <th></th>\n",
       "      <th>ID</th>\n",
       "      <th>len</th>\n",
       "      <th>num_pad</th>\n",
       "      <th>num_groups</th>\n",
       "      <th>seqs</th>\n",
       "      <th>seq_len</th>\n",
       "      <th>seqs_even</th>\n",
       "      <th>identif</th>\n",
       "      <th>snips</th>\n",
       "    </tr>\n",
       "  </thead>\n",
       "  <tbody>\n",
       "    <tr>\n",
       "      <th>0</th>\n",
       "      <td>0</td>\n",
       "      <td>1704</td>\n",
       "      <td>79</td>\n",
       "      <td>568</td>\n",
       "      <td>atggagaaaatagtgcttcttcttgcaatagtcagccttgttaaaa...</td>\n",
       "      <td>atg</td>\n",
       "      <td>atggagaaaatagtgcttcttcttgcaatagtcagccttgttaaaa...</td>\n",
       "      <td>Seqnum1</td>\n",
       "      <td>atg</td>\n",
       "    </tr>\n",
       "    <tr>\n",
       "      <th>1</th>\n",
       "      <td>0</td>\n",
       "      <td>1704</td>\n",
       "      <td>79</td>\n",
       "      <td>568</td>\n",
       "      <td>atggagaaaatagtgcttcttcttgcaatagtcagccttgttaaaa...</td>\n",
       "      <td>atg</td>\n",
       "      <td>atggagaaaatagtgcttcttcttgcaatagtcagccttgttaaaa...</td>\n",
       "      <td>Seqnum1</td>\n",
       "      <td>gag</td>\n",
       "    </tr>\n",
       "    <tr>\n",
       "      <th>2</th>\n",
       "      <td>0</td>\n",
       "      <td>1704</td>\n",
       "      <td>79</td>\n",
       "      <td>568</td>\n",
       "      <td>atggagaaaatagtgcttcttcttgcaatagtcagccttgttaaaa...</td>\n",
       "      <td>atg</td>\n",
       "      <td>atggagaaaatagtgcttcttcttgcaatagtcagccttgttaaaa...</td>\n",
       "      <td>Seqnum1</td>\n",
       "      <td>aaa</td>\n",
       "    </tr>\n",
       "    <tr>\n",
       "      <th>3</th>\n",
       "      <td>0</td>\n",
       "      <td>1704</td>\n",
       "      <td>79</td>\n",
       "      <td>568</td>\n",
       "      <td>atggagaaaatagtgcttcttcttgcaatagtcagccttgttaaaa...</td>\n",
       "      <td>atg</td>\n",
       "      <td>atggagaaaatagtgcttcttcttgcaatagtcagccttgttaaaa...</td>\n",
       "      <td>Seqnum1</td>\n",
       "      <td>ata</td>\n",
       "    </tr>\n",
       "    <tr>\n",
       "      <th>4</th>\n",
       "      <td>0</td>\n",
       "      <td>1704</td>\n",
       "      <td>79</td>\n",
       "      <td>568</td>\n",
       "      <td>atggagaaaatagtgcttcttcttgcaatagtcagccttgttaaaa...</td>\n",
       "      <td>atg</td>\n",
       "      <td>atggagaaaatagtgcttcttcttgcaatagtcagccttgttaaaa...</td>\n",
       "      <td>Seqnum1</td>\n",
       "      <td>gtg</td>\n",
       "    </tr>\n",
       "  </tbody>\n",
       "</table>\n",
       "</div>"
      ],
      "text/plain": [
       "   ID   len  num_pad  num_groups  \\\n",
       "0   0  1704       79         568   \n",
       "1   0  1704       79         568   \n",
       "2   0  1704       79         568   \n",
       "3   0  1704       79         568   \n",
       "4   0  1704       79         568   \n",
       "\n",
       "                                                seqs seq_len  \\\n",
       "0  atggagaaaatagtgcttcttcttgcaatagtcagccttgttaaaa...     atg   \n",
       "1  atggagaaaatagtgcttcttcttgcaatagtcagccttgttaaaa...     atg   \n",
       "2  atggagaaaatagtgcttcttcttgcaatagtcagccttgttaaaa...     atg   \n",
       "3  atggagaaaatagtgcttcttcttgcaatagtcagccttgttaaaa...     atg   \n",
       "4  atggagaaaatagtgcttcttcttgcaatagtcagccttgttaaaa...     atg   \n",
       "\n",
       "                                           seqs_even  identif snips  \n",
       "0  atggagaaaatagtgcttcttcttgcaatagtcagccttgttaaaa...  Seqnum1   atg  \n",
       "1  atggagaaaatagtgcttcttcttgcaatagtcagccttgttaaaa...  Seqnum1   gag  \n",
       "2  atggagaaaatagtgcttcttcttgcaatagtcagccttgttaaaa...  Seqnum1   aaa  \n",
       "3  atggagaaaatagtgcttcttcttgcaatagtcagccttgttaaaa...  Seqnum1   ata  \n",
       "4  atggagaaaatagtgcttcttcttgcaatagtcagccttgttaaaa...  Seqnum1   gtg  "
      ]
     },
     "execution_count": 5,
     "metadata": {},
     "output_type": "execute_result"
    }
   ],
   "source": [
    "df.head()"
   ]
  },
  {
   "cell_type": "code",
   "execution_count": 2,
   "metadata": {
    "collapsed": false
   },
   "outputs": [],
   "source": [
    "import pandas as pd\n",
    "import numpy as np"
   ]
  },
  {
   "cell_type": "code",
   "execution_count": 17,
   "metadata": {
    "collapsed": false
   },
   "outputs": [],
   "source": [
    "df1=pd.read_csv('/Users/ashishtrehan/Downloads/FLU_Challenge_vietnam.csv')"
   ]
  },
  {
   "cell_type": "code",
   "execution_count": 12,
   "metadata": {
    "collapsed": false
   },
   "outputs": [],
   "source": [
    "#df1.groupby(['seqs']).size().to_csv()"
   ]
  },
  {
   "cell_type": "code",
   "execution_count": 15,
   "metadata": {
    "collapsed": false
   },
   "outputs": [
    {
     "data": {
      "text/plain": [
       "Index([u'ID', u'len', u'num_pad', u'num_groups', u'seqs', u'seq_len',\n",
       "       u'seqs_even', u'identif', u'snips'],\n",
       "      dtype='object')"
      ]
     },
     "execution_count": 15,
     "metadata": {},
     "output_type": "execute_result"
    }
   ],
   "source": [
    "df.columns"
   ]
  },
  {
   "cell_type": "code",
   "execution_count": 19,
   "metadata": {
    "collapsed": false
   },
   "outputs": [
    {
     "data": {
      "text/html": [
       "<div>\n",
       "<table border=\"1\" class=\"dataframe\">\n",
       "  <thead>\n",
       "    <tr style=\"text-align: right;\">\n",
       "      <th></th>\n",
       "      <th>ID</th>\n",
       "      <th>seq</th>\n",
       "      <th>s</th>\n",
       "      <th>Unnamed: 3</th>\n",
       "      <th>Unnamed: 4</th>\n",
       "      <th>Unnamed: 5</th>\n",
       "      <th>Unnamed: 6</th>\n",
       "      <th>Unnamed: 7</th>\n",
       "      <th>Unnamed: 8</th>\n",
       "      <th>Unnamed: 9</th>\n",
       "      <th>...</th>\n",
       "      <th>Unnamed: 584</th>\n",
       "      <th>Unnamed: 585</th>\n",
       "      <th>Unnamed: 586</th>\n",
       "      <th>Unnamed: 587</th>\n",
       "      <th>Unnamed: 588</th>\n",
       "      <th>Unnamed: 589</th>\n",
       "      <th>Unnamed: 590</th>\n",
       "      <th>Unnamed: 591</th>\n",
       "      <th>Unnamed: 592</th>\n",
       "      <th>Unnamed: 593</th>\n",
       "    </tr>\n",
       "  </thead>\n",
       "  <tbody>\n",
       "    <tr>\n",
       "      <th>0</th>\n",
       "      <td>0</td>\n",
       "      <td>agc</td>\n",
       "      <td>aaa</td>\n",
       "      <td>agc</td>\n",
       "      <td>agg</td>\n",
       "      <td>ggt</td>\n",
       "      <td>cca</td>\n",
       "      <td>atc</td>\n",
       "      <td>tgt</td>\n",
       "      <td>caa</td>\n",
       "      <td>...</td>\n",
       "      <td>ttg</td>\n",
       "      <td>tag</td>\n",
       "      <td>tta</td>\n",
       "      <td>aaa</td>\n",
       "      <td>aca</td>\n",
       "      <td>ccc</td>\n",
       "      <td>ttg</td>\n",
       "      <td>ttt</td>\n",
       "      <td>cta</td>\n",
       "      <td>ct</td>\n",
       "    </tr>\n",
       "    <tr>\n",
       "      <th>1</th>\n",
       "      <td>0</td>\n",
       "      <td>atg</td>\n",
       "      <td>gag</td>\n",
       "      <td>aaa</td>\n",
       "      <td>ata</td>\n",
       "      <td>gtg</td>\n",
       "      <td>ctt</td>\n",
       "      <td>ctt</td>\n",
       "      <td>ctt</td>\n",
       "      <td>gca</td>\n",
       "      <td>...</td>\n",
       "      <td>NaN</td>\n",
       "      <td>NaN</td>\n",
       "      <td>NaN</td>\n",
       "      <td>NaN</td>\n",
       "      <td>NaN</td>\n",
       "      <td>NaN</td>\n",
       "      <td>NaN</td>\n",
       "      <td>NaN</td>\n",
       "      <td>NaN</td>\n",
       "      <td>NaN</td>\n",
       "    </tr>\n",
       "    <tr>\n",
       "      <th>2</th>\n",
       "      <td>0</td>\n",
       "      <td>atg</td>\n",
       "      <td>gag</td>\n",
       "      <td>aaa</td>\n",
       "      <td>ata</td>\n",
       "      <td>gtg</td>\n",
       "      <td>ctt</td>\n",
       "      <td>ctt</td>\n",
       "      <td>ctt</td>\n",
       "      <td>gca</td>\n",
       "      <td>...</td>\n",
       "      <td>NaN</td>\n",
       "      <td>NaN</td>\n",
       "      <td>NaN</td>\n",
       "      <td>NaN</td>\n",
       "      <td>NaN</td>\n",
       "      <td>NaN</td>\n",
       "      <td>NaN</td>\n",
       "      <td>NaN</td>\n",
       "      <td>NaN</td>\n",
       "      <td>NaN</td>\n",
       "    </tr>\n",
       "    <tr>\n",
       "      <th>3</th>\n",
       "      <td>0</td>\n",
       "      <td>atg</td>\n",
       "      <td>gag</td>\n",
       "      <td>aaa</td>\n",
       "      <td>ata</td>\n",
       "      <td>gtg</td>\n",
       "      <td>ctt</td>\n",
       "      <td>ctt</td>\n",
       "      <td>ctt</td>\n",
       "      <td>gca</td>\n",
       "      <td>...</td>\n",
       "      <td>NaN</td>\n",
       "      <td>NaN</td>\n",
       "      <td>NaN</td>\n",
       "      <td>NaN</td>\n",
       "      <td>NaN</td>\n",
       "      <td>NaN</td>\n",
       "      <td>NaN</td>\n",
       "      <td>NaN</td>\n",
       "      <td>NaN</td>\n",
       "      <td>NaN</td>\n",
       "    </tr>\n",
       "    <tr>\n",
       "      <th>4</th>\n",
       "      <td>0</td>\n",
       "      <td>atg</td>\n",
       "      <td>gag</td>\n",
       "      <td>aaa</td>\n",
       "      <td>ata</td>\n",
       "      <td>gtg</td>\n",
       "      <td>ctt</td>\n",
       "      <td>ctt</td>\n",
       "      <td>ctt</td>\n",
       "      <td>gca</td>\n",
       "      <td>...</td>\n",
       "      <td>NaN</td>\n",
       "      <td>NaN</td>\n",
       "      <td>NaN</td>\n",
       "      <td>NaN</td>\n",
       "      <td>NaN</td>\n",
       "      <td>NaN</td>\n",
       "      <td>NaN</td>\n",
       "      <td>NaN</td>\n",
       "      <td>NaN</td>\n",
       "      <td>NaN</td>\n",
       "    </tr>\n",
       "  </tbody>\n",
       "</table>\n",
       "<p>5 rows × 594 columns</p>\n",
       "</div>"
      ],
      "text/plain": [
       "   ID  seq    s Unnamed: 3 Unnamed: 4 Unnamed: 5 Unnamed: 6 Unnamed: 7  \\\n",
       "0   0  agc  aaa        agc        agg        ggt        cca        atc   \n",
       "1   0  atg  gag        aaa        ata        gtg        ctt        ctt   \n",
       "2   0  atg  gag        aaa        ata        gtg        ctt        ctt   \n",
       "3   0  atg  gag        aaa        ata        gtg        ctt        ctt   \n",
       "4   0  atg  gag        aaa        ata        gtg        ctt        ctt   \n",
       "\n",
       "  Unnamed: 8 Unnamed: 9     ...      Unnamed: 584 Unnamed: 585 Unnamed: 586  \\\n",
       "0        tgt        caa     ...               ttg          tag          tta   \n",
       "1        ctt        gca     ...               NaN          NaN          NaN   \n",
       "2        ctt        gca     ...               NaN          NaN          NaN   \n",
       "3        ctt        gca     ...               NaN          NaN          NaN   \n",
       "4        ctt        gca     ...               NaN          NaN          NaN   \n",
       "\n",
       "  Unnamed: 587 Unnamed: 588 Unnamed: 589 Unnamed: 590 Unnamed: 591  \\\n",
       "0          aaa          aca          ccc          ttg          ttt   \n",
       "1          NaN          NaN          NaN          NaN          NaN   \n",
       "2          NaN          NaN          NaN          NaN          NaN   \n",
       "3          NaN          NaN          NaN          NaN          NaN   \n",
       "4          NaN          NaN          NaN          NaN          NaN   \n",
       "\n",
       "  Unnamed: 592 Unnamed: 593  \n",
       "0          cta           ct  \n",
       "1          NaN          NaN  \n",
       "2          NaN          NaN  \n",
       "3          NaN          NaN  \n",
       "4          NaN          NaN  \n",
       "\n",
       "[5 rows x 594 columns]"
      ]
     },
     "execution_count": 19,
     "metadata": {},
     "output_type": "execute_result"
    }
   ],
   "source": [
    "df1.head()"
   ]
  },
  {
   "cell_type": "code",
   "execution_count": 20,
   "metadata": {
    "collapsed": true
   },
   "outputs": [],
   "source": [
    "trainFeatures = df1.drop(['ID','seq','s'], axis=1)"
   ]
  },
  {
   "cell_type": "code",
   "execution_count": 24,
   "metadata": {
    "collapsed": false
   },
   "outputs": [
    {
     "data": {
      "text/plain": [
       "Unnamed: 3\n",
       "aaa    291\n",
       "aac     16\n",
       "aag     12\n",
       "aat      9\n",
       "aca      1\n",
       "aga     12\n",
       "agc     92\n",
       "atc     48\n",
       "atg      3\n",
       "att      4\n",
       "caa      4\n",
       "cag      2\n",
       "cct      1\n",
       "cta      1\n",
       "ctc      3\n",
       "ctg     47\n",
       "gaa      2\n",
       "gag     21\n",
       "gat      1\n",
       "gca      2\n",
       "gct      1\n",
       "gga      3\n",
       "gta      2\n",
       "gtc      3\n",
       "gtt      1\n",
       "tat      3\n",
       "tca     11\n",
       "tct     10\n",
       "tgc      1\n",
       "tgg      1\n",
       "tgt     20\n",
       "tta      1\n",
       "ttg      1\n",
       "dtype: int64"
      ]
     },
     "execution_count": 24,
     "metadata": {},
     "output_type": "execute_result"
    }
   ],
   "source": [
    "trainFeatures.groupby(['Unnamed: 3']).size()"
   ]
  },
  {
   "cell_type": "code",
   "execution_count": 21,
   "metadata": {
    "collapsed": false
   },
   "outputs": [
    {
     "ename": "ValueError",
     "evalue": "could not convert string to float: ct",
     "output_type": "error",
     "traceback": [
      "\u001b[0;31m---------------------------------------------------------------------------\u001b[0m",
      "\u001b[0;31mValueError\u001b[0m                                Traceback (most recent call last)",
      "\u001b[0;32m<ipython-input-21-df7a7e5f1740>\u001b[0m in \u001b[0;36m<module>\u001b[0;34m()\u001b[0m\n\u001b[1;32m      1\u001b[0m \u001b[0;32mfrom\u001b[0m \u001b[0msklearn\u001b[0m\u001b[0;34m.\u001b[0m\u001b[0mdecomposition\u001b[0m \u001b[0;32mimport\u001b[0m \u001b[0mPCA\u001b[0m\u001b[0;34m,\u001b[0m \u001b[0mFactorAnalysis\u001b[0m\u001b[0;34m\u001b[0m\u001b[0m\n\u001b[1;32m      2\u001b[0m \u001b[0mpca\u001b[0m \u001b[0;34m=\u001b[0m \u001b[0mPCA\u001b[0m\u001b[0;34m(\u001b[0m\u001b[0mwhiten\u001b[0m\u001b[0;34m=\u001b[0m\u001b[0mTrue\u001b[0m\u001b[0;34m)\u001b[0m\u001b[0;34m\u001b[0m\u001b[0m\n\u001b[0;32m----> 3\u001b[0;31m \u001b[0mpca_1\u001b[0m\u001b[0;34m=\u001b[0m\u001b[0mpca\u001b[0m\u001b[0;34m.\u001b[0m\u001b[0mfit\u001b[0m\u001b[0;34m(\u001b[0m\u001b[0mtrainFeatures\u001b[0m\u001b[0;34m)\u001b[0m\u001b[0;34m\u001b[0m\u001b[0m\n\u001b[0m",
      "\u001b[0;32m/Library/Python/2.7/site-packages/sklearn/decomposition/pca.pyc\u001b[0m in \u001b[0;36mfit\u001b[0;34m(self, X, y)\u001b[0m\n\u001b[1;32m    219\u001b[0m             \u001b[0mReturns\u001b[0m \u001b[0mthe\u001b[0m \u001b[0minstance\u001b[0m \u001b[0mitself\u001b[0m\u001b[0;34m.\u001b[0m\u001b[0;34m\u001b[0m\u001b[0m\n\u001b[1;32m    220\u001b[0m         \"\"\"\n\u001b[0;32m--> 221\u001b[0;31m         \u001b[0mself\u001b[0m\u001b[0;34m.\u001b[0m\u001b[0m_fit\u001b[0m\u001b[0;34m(\u001b[0m\u001b[0mX\u001b[0m\u001b[0;34m)\u001b[0m\u001b[0;34m\u001b[0m\u001b[0m\n\u001b[0m\u001b[1;32m    222\u001b[0m         \u001b[0;32mreturn\u001b[0m \u001b[0mself\u001b[0m\u001b[0;34m\u001b[0m\u001b[0m\n\u001b[1;32m    223\u001b[0m \u001b[0;34m\u001b[0m\u001b[0m\n",
      "\u001b[0;32m/Library/Python/2.7/site-packages/sklearn/decomposition/pca.pyc\u001b[0m in \u001b[0;36m_fit\u001b[0;34m(self, X)\u001b[0m\n\u001b[1;32m    263\u001b[0m             \u001b[0mrequested\u001b[0m\u001b[0;34m.\u001b[0m\u001b[0;34m\u001b[0m\u001b[0m\n\u001b[1;32m    264\u001b[0m         \"\"\"\n\u001b[0;32m--> 265\u001b[0;31m         \u001b[0mX\u001b[0m \u001b[0;34m=\u001b[0m \u001b[0mcheck_array\u001b[0m\u001b[0;34m(\u001b[0m\u001b[0mX\u001b[0m\u001b[0;34m)\u001b[0m\u001b[0;34m\u001b[0m\u001b[0m\n\u001b[0m\u001b[1;32m    266\u001b[0m         \u001b[0mn_samples\u001b[0m\u001b[0;34m,\u001b[0m \u001b[0mn_features\u001b[0m \u001b[0;34m=\u001b[0m \u001b[0mX\u001b[0m\u001b[0;34m.\u001b[0m\u001b[0mshape\u001b[0m\u001b[0;34m\u001b[0m\u001b[0m\n\u001b[1;32m    267\u001b[0m         \u001b[0mX\u001b[0m \u001b[0;34m=\u001b[0m \u001b[0mas_float_array\u001b[0m\u001b[0;34m(\u001b[0m\u001b[0mX\u001b[0m\u001b[0;34m,\u001b[0m \u001b[0mcopy\u001b[0m\u001b[0;34m=\u001b[0m\u001b[0mself\u001b[0m\u001b[0;34m.\u001b[0m\u001b[0mcopy\u001b[0m\u001b[0;34m)\u001b[0m\u001b[0;34m\u001b[0m\u001b[0m\n",
      "\u001b[0;32m/Library/Python/2.7/site-packages/sklearn/utils/validation.pyc\u001b[0m in \u001b[0;36mcheck_array\u001b[0;34m(array, accept_sparse, dtype, order, copy, force_all_finite, ensure_2d, allow_nd, ensure_min_samples, ensure_min_features)\u001b[0m\n\u001b[1;32m    342\u001b[0m             \u001b[0;32melse\u001b[0m\u001b[0;34m:\u001b[0m\u001b[0;34m\u001b[0m\u001b[0m\n\u001b[1;32m    343\u001b[0m                 \u001b[0mdtype\u001b[0m \u001b[0;34m=\u001b[0m \u001b[0mNone\u001b[0m\u001b[0;34m\u001b[0m\u001b[0m\n\u001b[0;32m--> 344\u001b[0;31m         \u001b[0marray\u001b[0m \u001b[0;34m=\u001b[0m \u001b[0mnp\u001b[0m\u001b[0;34m.\u001b[0m\u001b[0marray\u001b[0m\u001b[0;34m(\u001b[0m\u001b[0marray\u001b[0m\u001b[0;34m,\u001b[0m \u001b[0mdtype\u001b[0m\u001b[0;34m=\u001b[0m\u001b[0mdtype\u001b[0m\u001b[0;34m,\u001b[0m \u001b[0morder\u001b[0m\u001b[0;34m=\u001b[0m\u001b[0morder\u001b[0m\u001b[0;34m,\u001b[0m \u001b[0mcopy\u001b[0m\u001b[0;34m=\u001b[0m\u001b[0mcopy\u001b[0m\u001b[0;34m)\u001b[0m\u001b[0;34m\u001b[0m\u001b[0m\n\u001b[0m\u001b[1;32m    345\u001b[0m         \u001b[0;31m# make sure we actually converted to numeric:\u001b[0m\u001b[0;34m\u001b[0m\u001b[0;34m\u001b[0m\u001b[0m\n\u001b[1;32m    346\u001b[0m         \u001b[0;32mif\u001b[0m \u001b[0mdtype_numeric\u001b[0m \u001b[0;32mand\u001b[0m \u001b[0marray\u001b[0m\u001b[0;34m.\u001b[0m\u001b[0mdtype\u001b[0m\u001b[0;34m.\u001b[0m\u001b[0mkind\u001b[0m \u001b[0;34m==\u001b[0m \u001b[0;34m\"O\"\u001b[0m\u001b[0;34m:\u001b[0m\u001b[0;34m\u001b[0m\u001b[0m\n",
      "\u001b[0;31mValueError\u001b[0m: could not convert string to float: ct"
     ]
    }
   ],
   "source": [
    "from sklearn.decomposition import PCA, FactorAnalysis\n",
    "pca = PCA(whiten=True)\n",
    "pca_1=pca.fit(trainFeatures)"
   ]
  },
  {
   "cell_type": "code",
   "execution_count": 23,
   "metadata": {
    "collapsed": false
   },
   "outputs": [
    {
     "ename": "NameError",
     "evalue": "name 'sklearn' is not defined",
     "output_type": "error",
     "traceback": [
      "\u001b[0;31m---------------------------------------------------------------------------\u001b[0m",
      "\u001b[0;31mNameError\u001b[0m                                 Traceback (most recent call last)",
      "\u001b[0;32m<ipython-input-23-50c24f609d1e>\u001b[0m in \u001b[0;36m<module>\u001b[0;34m()\u001b[0m\n\u001b[0;32m----> 1\u001b[0;31m \u001b[0;32mclass\u001b[0m \u001b[0mTreeFS\u001b[0m\u001b[0;34m(\u001b[0m\u001b[0msklearn\u001b[0m\u001b[0;34m.\u001b[0m\u001b[0mbase\u001b[0m\u001b[0;34m.\u001b[0m\u001b[0mBaseEstimator\u001b[0m\u001b[0;34m)\u001b[0m\u001b[0;34m:\u001b[0m\u001b[0;34m\u001b[0m\u001b[0m\n\u001b[0m\u001b[1;32m      2\u001b[0m \u001b[0;34m\u001b[0m\u001b[0m\n\u001b[1;32m      3\u001b[0m     \u001b[0;32mdef\u001b[0m \u001b[0m__init__\u001b[0m\u001b[0;34m(\u001b[0m\u001b[0mself\u001b[0m\u001b[0;34m,\u001b[0m \u001b[0mn_features\u001b[0m\u001b[0;34m=\u001b[0m\u001b[0;36m100\u001b[0m\u001b[0;34m)\u001b[0m\u001b[0;34m:\u001b[0m\u001b[0;34m\u001b[0m\u001b[0m\n\u001b[1;32m      4\u001b[0m         \u001b[0mself\u001b[0m\u001b[0;34m.\u001b[0m\u001b[0mforest\u001b[0m \u001b[0;34m=\u001b[0m \u001b[0mExtraTreesClassifier\u001b[0m\u001b[0;34m(\u001b[0m\u001b[0mn_estimators\u001b[0m\u001b[0;34m=\u001b[0m\u001b[0;36m100\u001b[0m\u001b[0;34m)\u001b[0m\u001b[0;34m\u001b[0m\u001b[0m\n\u001b[1;32m      5\u001b[0m         \u001b[0mself\u001b[0m\u001b[0;34m.\u001b[0m\u001b[0mn_features\u001b[0m \u001b[0;34m=\u001b[0m \u001b[0mn_features\u001b[0m\u001b[0;34m\u001b[0m\u001b[0m\n",
      "\u001b[0;31mNameError\u001b[0m: name 'sklearn' is not defined"
     ]
    }
   ],
   "source": [
    "class TreeFS(sklearn.base.BaseEstimator):\n",
    "    \n",
    "    def __init__(self, n_features=100):\n",
    "        self.forest = ExtraTreesClassifier(n_estimators=100)\n",
    "        self.n_features = n_features\n",
    "    \n",
    "    def fit(self, df, y=None):\n",
    "        self.forest.fit(df, y)\n",
    "        self.importances = self.forest.feature_importances_\n",
    "        self.indices = np.argsort(-self.importances)[0:self.n_features]\n",
    "        self.indices.sort()\n",
    "        return self\n",
    "        \n",
    "    def transform(self, X, y=None):   \n",
    "        return X[:, self.indices]\n",
    "        \n",
    "class Ngrams(sklearn.base.BaseEstimator):\n",
    "    def __init__(self, ngrams=(1,1),min_df=1, name=\"ngram\"):\n",
    "        self.min_df = min_df\n",
    "        self.ngrams = ngrams\n",
    "        self.name = name\n",
    "        \n",
    "    def get_feature_names(self):\n",
    "        return self.feature_names_\n",
    "    \n",
    "    def _set_feature_names(self, features):\n",
    "        return [(self.name, x) for x in features]\n",
    "        \n",
    "        \n",
    "    def fit(self, df,y=None):\n",
    "        self.tfidf = CountVectorizer(ngram_range=self.ngrams, min_df=self.min_df, max_df=0.9,token_pattern=\"[a-zA-Z]{2,15}\")\n",
    "                                    #vocabulary=['New Girl'])\n",
    "                                     #stop_words=\"english\")\n",
    "                                     #token_pattern=\"[a-zA-Z]{2,15}\")\n",
    "        self.tfidf.fit(df)\n",
    "        self.feature_names_ = self._set_feature_names(self.tfidf.get_feature_names())\n",
    "        return self\n",
    "    \n",
    "    def transform(self, df,y=None):\n",
    "        return binarize(self.tfidf.transform(df).todense())\n",
    "\n",
    "class OneGrams(Ngrams):\n",
    "    \n",
    "    def __init__(self, min_df=1):\n",
    "        super(OneGrams, self).__init__(min_df=min_df, name=\"onegram\")\n",
    "        \n",
    "\n",
    "class MGrams(Ngrams):\n",
    "    \n",
    "    def __init__(self, ngrams=(2,2), min_df=1):\n",
    "        super(MGrams, self).__init__(ngrams=ngrams,min_df=min_df,name=\"mgram\")\n",
    "        \n",
    "    def _set_feature_names(self, features):\n",
    "        return [(self.name, \"[, .:;/-]+\".join(x.split(\" \"))) for x in features]\n",
    "    \n",
    "\n",
    "class FeaturePipeline(FeatureUnion):\n",
    "    \n",
    "    def __init__(self, transformer_list, n_jobs=1, transformer_weights=None):\n",
    "        super(FeaturePipeline, self).__init__(transformer_list, n_jobs, transformer_weights)\n",
    "        \n",
    "    def get_features(self):\n",
    "        feature_names = []\n",
    "        for name, trans in self.transformer_list:\n",
    "            feature_names.extend(trans.get_feature_names())\n",
    "        return feature_names\n",
    "\n",
    "forest = TreeFS(n_features=800)    \n",
    "svm = LinearSVC(fit_intercept=False, random_state=1)\n",
    "fp = FeaturePipeline(sklearn.pipeline._name_estimators([OneGrams(min_df=2), MGrams((2,2), min_df=2), MGrams((3,3),min_df=2)]))\n",
    "p = Pipeline([(\"features\",fp),(\"forest\",forest),(\"svm\",svm)])\n",
    "print p"
   ]
  },
  {
   "cell_type": "code",
   "execution_count": 27,
   "metadata": {
    "collapsed": false
   },
   "outputs": [
    {
     "data": {
      "text/plain": [
       "array([1, 1, 1, 1, 1, 6, 4, 3, 2, 5])"
      ]
     },
     "execution_count": 27,
     "metadata": {},
     "output_type": "execute_result"
    }
   ],
   "source": [
    "from sklearn.datasets import make_friedman1\n",
    "from sklearn.feature_selection import RFE\n",
    "from sklearn.svm import SVR\n",
    "X, y = make_friedman1(n_samples=50, n_features=10, random_state=0)\n",
    "estimator = SVR(kernel=\"linear\")\n",
    "selector = RFE(estimator, 5, step=1)\n",
    "selector = selector.fit(X, y)\n",
    "selector.support_ \n",
    "selector.ranking_"
   ]
  },
  {
   "cell_type": "code",
   "execution_count": 28,
   "metadata": {
    "collapsed": false
   },
   "outputs": [
    {
     "data": {
      "text/plain": [
       "array([[ 0.5488135 ,  0.71518937,  0.60276338,  0.54488318,  0.4236548 ,\n",
       "         0.64589411,  0.43758721,  0.891773  ,  0.96366276,  0.38344152],\n",
       "       [ 0.79172504,  0.52889492,  0.56804456,  0.92559664,  0.07103606,\n",
       "         0.0871293 ,  0.0202184 ,  0.83261985,  0.77815675,  0.87001215],\n",
       "       [ 0.97861834,  0.79915856,  0.46147936,  0.78052918,  0.11827443,\n",
       "         0.63992102,  0.14335329,  0.94466892,  0.52184832,  0.41466194],\n",
       "       [ 0.26455561,  0.77423369,  0.45615033,  0.56843395,  0.0187898 ,\n",
       "         0.6176355 ,  0.61209572,  0.616934  ,  0.94374808,  0.6818203 ],\n",
       "       [ 0.3595079 ,  0.43703195,  0.6976312 ,  0.06022547,  0.66676672,\n",
       "         0.67063787,  0.21038256,  0.1289263 ,  0.31542835,  0.36371077],\n",
       "       [ 0.57019677,  0.43860151,  0.98837384,  0.10204481,  0.20887676,\n",
       "         0.16130952,  0.65310833,  0.2532916 ,  0.46631077,  0.24442559],\n",
       "       [ 0.15896958,  0.11037514,  0.65632959,  0.13818295,  0.19658236,\n",
       "         0.36872517,  0.82099323,  0.09710128,  0.83794491,  0.09609841],\n",
       "       [ 0.97645947,  0.4686512 ,  0.97676109,  0.60484552,  0.73926358,\n",
       "         0.03918779,  0.28280696,  0.12019656,  0.2961402 ,  0.11872772],\n",
       "       [ 0.31798318,  0.41426299,  0.0641475 ,  0.69247212,  0.56660145,\n",
       "         0.26538949,  0.52324805,  0.09394051,  0.5759465 ,  0.9292962 ],\n",
       "       [ 0.31856895,  0.66741038,  0.13179786,  0.7163272 ,  0.28940609,\n",
       "         0.18319136,  0.58651293,  0.02010755,  0.82894003,  0.00469548],\n",
       "       [ 0.67781654,  0.27000797,  0.73519402,  0.96218855,  0.24875314,\n",
       "         0.57615733,  0.59204193,  0.57225191,  0.22308163,  0.95274901],\n",
       "       [ 0.44712538,  0.84640867,  0.69947928,  0.29743695,  0.81379782,\n",
       "         0.39650574,  0.8811032 ,  0.58127287,  0.88173536,  0.69253159],\n",
       "       [ 0.72525428,  0.50132438,  0.95608363,  0.6439902 ,  0.42385505,\n",
       "         0.60639321,  0.0191932 ,  0.30157482,  0.66017354,  0.29007761],\n",
       "       [ 0.61801543,  0.4287687 ,  0.13547406,  0.29828233,  0.56996491,\n",
       "         0.59087276,  0.57432525,  0.65320082,  0.65210327,  0.43141844],\n",
       "       [ 0.8965466 ,  0.36756187,  0.43586493,  0.89192336,  0.80619399,\n",
       "         0.70388858,  0.10022689,  0.91948261,  0.7142413 ,  0.99884701],\n",
       "       [ 0.1494483 ,  0.86812606,  0.16249293,  0.61555956,  0.12381998,\n",
       "         0.84800823,  0.80731896,  0.56910074,  0.4071833 ,  0.069167  ],\n",
       "       [ 0.69742877,  0.45354268,  0.7220556 ,  0.86638233,  0.97552151,\n",
       "         0.85580334,  0.01171408,  0.35997806,  0.72999056,  0.17162968],\n",
       "       [ 0.52103661,  0.05433799,  0.19999652,  0.01852179,  0.7936977 ,\n",
       "         0.22392469,  0.34535168,  0.92808129,  0.7044144 ,  0.03183893],\n",
       "       [ 0.16469416,  0.6214784 ,  0.57722859,  0.23789282,  0.934214  ,\n",
       "         0.61396596,  0.5356328 ,  0.58990998,  0.73012203,  0.311945  ],\n",
       "       [ 0.39822106,  0.20984375,  0.18619301,  0.94437239,  0.7395508 ,\n",
       "         0.49045881,  0.22741463,  0.25435648,  0.05802916,  0.43441663],\n",
       "       [ 0.31179588,  0.69634349,  0.37775184,  0.17960368,  0.02467873,\n",
       "         0.06724963,  0.67939277,  0.45369684,  0.53657921,  0.89667129],\n",
       "       [ 0.99033895,  0.21689698,  0.6630782 ,  0.26332238,  0.020651  ,\n",
       "         0.75837865,  0.32001715,  0.38346389,  0.58831711,  0.83104846],\n",
       "       [ 0.62898184,  0.87265066,  0.27354203,  0.79804683,  0.18563594,\n",
       "         0.95279166,  0.68748828,  0.21550768,  0.94737059,  0.73085581],\n",
       "       [ 0.25394164,  0.21331198,  0.51820071,  0.02566272,  0.20747008,\n",
       "         0.42468547,  0.37416998,  0.46357542,  0.27762871,  0.58678435],\n",
       "       [ 0.86385561,  0.11753186,  0.51737911,  0.13206811,  0.71685968,\n",
       "         0.3960597 ,  0.56542131,  0.18327984,  0.14484776,  0.48805628],\n",
       "       [ 0.35561274,  0.94043195,  0.76532525,  0.74866362,  0.90371974,\n",
       "         0.08342244,  0.55219247,  0.58447607,  0.96193638,  0.29214753],\n",
       "       [ 0.24082878,  0.10029394,  0.01642963,  0.92952932,  0.66991655,\n",
       "         0.78515291,  0.28173011,  0.58641017,  0.06395527,  0.4856276 ],\n",
       "       [ 0.97749514,  0.87650525,  0.33815895,  0.96157015,  0.23170163,\n",
       "         0.94931882,  0.9413777 ,  0.79920259,  0.63044794,  0.87428797],\n",
       "       [ 0.29302028,  0.84894356,  0.61787669,  0.01323686,  0.34723352,\n",
       "         0.14814086,  0.98182939,  0.47837031,  0.49739137,  0.63947252],\n",
       "       [ 0.36858461,  0.13690027,  0.82211773,  0.18984791,  0.51131898,\n",
       "         0.22431703,  0.09784448,  0.86219152,  0.97291949,  0.96083466],\n",
       "       [ 0.9065555 ,  0.77404733,  0.33314515,  0.08110139,  0.40724117,\n",
       "         0.23223414,  0.13248763,  0.05342718,  0.72559436,  0.01142746],\n",
       "       [ 0.77058075,  0.14694665,  0.07952208,  0.08960303,  0.67204781,\n",
       "         0.24536721,  0.42053947,  0.55736879,  0.86055117,  0.72704426],\n",
       "       [ 0.27032791,  0.1314828 ,  0.05537432,  0.30159863,  0.26211815,\n",
       "         0.45614057,  0.68328134,  0.69562545,  0.28351885,  0.37992696],\n",
       "       [ 0.18115096,  0.78854551,  0.05684808,  0.69699724,  0.7786954 ,\n",
       "         0.77740756,  0.25942256,  0.37381314,  0.58759964,  0.2728219 ],\n",
       "       [ 0.3708528 ,  0.19705428,  0.45985588,  0.0446123 ,  0.79979588,\n",
       "         0.07695645,  0.51883515,  0.3068101 ,  0.57754295,  0.95943334],\n",
       "       [ 0.64557024,  0.03536244,  0.43040244,  0.51001685,  0.53617749,\n",
       "         0.68139251,  0.2775961 ,  0.12886057,  0.39267568,  0.95640572],\n",
       "       [ 0.18713089,  0.90398395,  0.54380595,  0.45691142,  0.88204141,\n",
       "         0.45860396,  0.72416764,  0.39902532,  0.90404439,  0.69002502],\n",
       "       [ 0.69962205,  0.3277204 ,  0.75677864,  0.63606106,  0.24002027,\n",
       "         0.16053882,  0.79639147,  0.9591666 ,  0.45813883,  0.59098417],\n",
       "       [ 0.85772264,  0.45722345,  0.95187448,  0.57575116,  0.82076712,\n",
       "         0.90884372,  0.81552382,  0.15941446,  0.62889844,  0.39843426],\n",
       "       [ 0.06271295,  0.42403225,  0.25868407,  0.84903831,  0.03330463,\n",
       "         0.95898272,  0.35536885,  0.35670689,  0.0163285 ,  0.18523233],\n",
       "       [ 0.4012595 ,  0.92929142,  0.09961493,  0.94530153,  0.86948853,\n",
       "         0.4541624 ,  0.32670088,  0.23274413,  0.61446471,  0.03307459],\n",
       "       [ 0.01560606,  0.42879572,  0.06807407,  0.25194099,  0.22116092,\n",
       "         0.25319119,  0.13105523,  0.01203622,  0.1154843 ,  0.61848026],\n",
       "       [ 0.97425621,  0.990345  ,  0.4090541 ,  0.16295443,  0.63876176,\n",
       "         0.49030535,  0.98940978,  0.06530421,  0.78323444,  0.2883985 ],\n",
       "       [ 0.24141862,  0.66250457,  0.24606318,  0.66585912,  0.51730852,\n",
       "         0.42408899,  0.55468781,  0.28705152,  0.70657471,  0.41485687],\n",
       "       [ 0.36054556,  0.82865691,  0.92496691,  0.04600731,  0.23262699,\n",
       "         0.34851937,  0.81496648,  0.98549143,  0.9689717 ,  0.90494835],\n",
       "       [ 0.29655627,  0.99201124,  0.24942004,  0.10590615,  0.95095261,\n",
       "         0.23342026,  0.68976827,  0.05835636,  0.7307091 ,  0.88172021],\n",
       "       [ 0.2724369 ,  0.3790569 ,  0.37429618,  0.74878826,  0.23780724,\n",
       "         0.1718531 ,  0.44929165,  0.30446841,  0.83918912,  0.23774183],\n",
       "       [ 0.50238946,  0.9425836 ,  0.6339977 ,  0.86728941,  0.94020969,\n",
       "         0.75076486,  0.69957506,  0.96796557,  0.99440079,  0.45182168],\n",
       "       [ 0.07086978,  0.29279403,  0.15235471,  0.41748637,  0.13128933,\n",
       "         0.6041178 ,  0.38280806,  0.89538588,  0.96779467,  0.5468849 ],\n",
       "       [ 0.27482357,  0.59223042,  0.89676116,  0.40673335,  0.55207828,\n",
       "         0.27165277,  0.45544415,  0.40171354,  0.24841347,  0.50586638]])"
      ]
     },
     "execution_count": 28,
     "metadata": {},
     "output_type": "execute_result"
    }
   ],
   "source": [
    "X"
   ]
  },
  {
   "cell_type": "code",
   "execution_count": null,
   "metadata": {
    "collapsed": true
   },
   "outputs": [],
   "source": []
  }
 ],
 "metadata": {
  "kernelspec": {
   "display_name": "Python 2",
   "language": "python",
   "name": "python2"
  },
  "language_info": {
   "codemirror_mode": {
    "name": "ipython",
    "version": 2
   },
   "file_extension": ".py",
   "mimetype": "text/x-python",
   "name": "python",
   "nbconvert_exporter": "python",
   "pygments_lexer": "ipython2",
   "version": "2.7.6"
  }
 },
 "nbformat": 4,
 "nbformat_minor": 0
}
